{
 "cells": [
  {
   "cell_type": "code",
   "execution_count": 30,
   "metadata": {},
   "outputs": [],
   "source": [
    "import pandas as pd\n",
    "import numpy as np\n",
    "import pyspark\n",
    "from pyspark import SparkContext\n",
    "import pymysql\n",
    "pymysql.install_as_MySQLdb()\n",
    "import MySQLdb\n",
    "import time\n",
    "import csv\n",
    "import calendar"
   ]
  },
  {
   "cell_type": "code",
   "execution_count": 24,
   "metadata": {},
   "outputs": [],
   "source": [
    "db= MySQLdb.connect(db=\"dyd2\",\n",
    "                 host=\"129.97.222.133\",\n",
    "                 user=\"ubilab\",\n",
    "                 password=\"PMO2017pmo\")"
   ]
  },
  {
   "cell_type": "code",
   "execution_count": 34,
   "metadata": {},
   "outputs": [
    {
     "name": "stdout",
     "output_type": "stream",
     "text": [
      "(('2015_09',), ('2015_10',), ('2015_11',), ('2015_12',), ('2016_01',), ('2016_02',), ('2016_03',), ('2016_04',), ('2016_05',), ('2016_06',), ('2016_07',), ('2016_08',), ('2016_09',), ('2016_10',), ('2016_11',), ('2016_12',), ('2017_01',), ('2017_02',), ('2017_03',), ('2017_04',), ('2017_05',), ('2017_06',), ('2017_07',), ('2017_08',), ('2017_09',), ('2017_10',), ('2017_11',), ('2017_12',), ('2018_01',), ('2018_02',), ('2018_03',), ('2018_04',), ('2018_05',), ('2018_06',), ('2018_07',), ('2018_08',), ('NE',), ('candidate',), ('metadata',)) 39\n"
     ]
    }
   ],
   "source": [
    "cursor = db.cursor()\n",
    "cursor.execute(\"USE dyd2\")\n",
    "cursor.execute(\"SHOW TABLES\");\n",
    "tablelist=cursor.fetchall()\n",
    "print(tablelist,len(tablelist))\n",
    "tablelist=[num[0] for num in tablelist if \"_\" in num[0]]"
   ]
  },
  {
   "cell_type": "code",
   "execution_count": 36,
   "metadata": {},
   "outputs": [
    {
     "name": "stdout",
     "output_type": "stream",
     "text": [
      "1572273796.74794\n",
      "Total time taken 0.00021982192993164062\n"
     ]
    }
   ],
   "source": [
    "starttime=time.time()\n",
    "print (starttime)\n",
    "endtime=time.time()\n",
    "print(\"Total time taken \"+str(endtime-starttime))"
   ]
  },
  {
   "cell_type": "code",
   "execution_count": 37,
   "metadata": {},
   "outputs": [],
   "source": [
    "sc = SparkContext.getOrCreate()"
   ]
  },
  {
   "cell_type": "code",
   "execution_count": 40,
   "metadata": {},
   "outputs": [],
   "source": [
    "import datetime\n",
    "import matplotlib"
   ]
  },
  {
   "cell_type": "code",
   "execution_count": 41,
   "metadata": {},
   "outputs": [],
   "source": [
    "import matplotlib.pyplot as plt"
   ]
  },
  {
   "cell_type": "code",
   "execution_count": null,
   "metadata": {},
   "outputs": [],
   "source": []
  }
 ],
 "metadata": {
  "kernelspec": {
   "display_name": "Python 3",
   "language": "python",
   "name": "python3"
  },
  "language_info": {
   "codemirror_mode": {
    "name": "ipython",
    "version": 3
   },
   "file_extension": ".py",
   "mimetype": "text/x-python",
   "name": "python",
   "nbconvert_exporter": "python",
   "pygments_lexer": "ipython3",
   "version": "3.7.4"
  }
 },
 "nbformat": 4,
 "nbformat_minor": 2
}
